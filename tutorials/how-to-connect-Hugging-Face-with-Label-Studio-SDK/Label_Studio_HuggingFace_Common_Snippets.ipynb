{
  "cells": [
    {
      "cell_type": "markdown",
      "metadata": {
        "id": "sVhGZV2hJfWb"
      },
      "source": [
        "# 🧩 Label Studio + HuggingFace: Common Snippets\n",
        "\n",
        "**Reusable code snippets for Label Studio and HuggingFace integration tutorials**\n",
        "\n",
        "This notebook contains common setup, authentication, and utility functions that are used across multiple Label Studio + HuggingFace tutorials.\n",
        "\n",
        "## 📚 What's Included:\n",
        "\n",
        "1. **Setup & Installation**: Package installation and environment setup\n",
        "2. **Authentication**: Connect to Label Studio and HuggingFace\n",
        "3. **Data Import**: Load datasets from HuggingFace into Label Studio\n",
        "4. **Data Export**: Export annotations from Label Studio\n",
        "5. **Model Integration**: Connect HuggingFace models for predictions\n",
        "\n",
        "## 🎯 How to Use This Notebook:\n",
        "\n",
        "Each section is self-contained and can be copied into your own tutorial. The code is generic and can be adapted to different use cases (NER, classification, etc.).\n"
      ]
    },
    {
      "cell_type": "markdown",
      "metadata": {
        "id": "-y9a3Ag9JfWd"
      },
      "source": [
        "\n",
        "---\n",
        "\n",
        "## 🚀 Getting Started\n",
        "\n",
        "### What is Label Studio?\n",
        "\n",
        "**Label Studio** is an open-source data labeling platform that helps you:\n",
        "- Annotate text, images, audio, video, and time series data\n",
        "- Collaborate with teams on annotation projects\n",
        "- Integrate ML models for pre-annotations and active learning\n",
        "- Export labeled data in multiple formats\n",
        "\n",
        "### What is HuggingFace?\n",
        "\n",
        "**HuggingFace** is the leading platform for:\n",
        "- Pre-trained NLP models (transformers)\n",
        "- Public datasets for ML research\n",
        "- Model training and fine-tuning tools\n",
        "- Model hosting and deployment\n",
        "\n",
        "### Why Integrate Them?\n",
        "\n",
        "Combining Label Studio with HuggingFace creates a powerful ML workflow:\n",
        "\n",
        "```\n",
        "HuggingFace Datasets → Label Studio → Annotations → HuggingFace Models → Predictions → Label Studio\n",
        "                              ↓                            ↓                           ↓\n",
        "                         Easy Import                  Easy Training            Smart Pre-labeling\n",
        "```\n",
        "\n",
        "**Key Benefits:**\n",
        "- ⚡ **10x faster labeling** with ML-assisted pre-annotations\n",
        "- 🔄 **Seamless data pipeline** from import to training\n",
        "- 📈 **Continuous improvement** through active learning loops\n",
        "- 🏭 **Production-ready** automated workflows\n",
        "\n",
        "### Prerequisites\n",
        "\n",
        "Before starting, you'll need:\n",
        "\n",
        "1. **Label Studio Instance**:\n",
        "   - Local:\n",
        "     - Install with `pip install label-studio`\n",
        "     - run `label-studio start`\n",
        "   - If Local wont work for your needs, consider Starter Cloud or Enterprise. [Compare Versions](https://humansignal.com/pricing?__hstc=90244869.f460bd510aca9872cc2c5cd0f3f951cf.1732197291196.1755110822269.1759412864367.16&__hssc=90244869.5.1759412864367&__hsfp=3975824757&_gl=1*1reqrcq*_gcl_au*MjAxNDk2MTY2NC4xNzU0NjU5OTMw*_ga*MTcyNjc4NDcyNi4xNzMyMTk3Mjkx*_ga_NQELN45JRH*czE3NTk0MTI4NjMkbzI3JGcxJHQxNzU5NDE0MzA1JGo1OSRsMCRoMA..)\n",
        "   \n",
        "\n",
        "2. **Label Studio API Key**:\n",
        "   - Go to Label Studio → Account & Settings → Access Token\n",
        "   - Copy your API token\n",
        "\n",
        "3. **HuggingFace Account** (optional but recommended):\n",
        "   - Sign up at [huggingface.co](https://huggingface.co)\n",
        "   - Get your token at [huggingface.co/settings/tokens](https://huggingface.co/settings/tokens)\n",
        "\n",
        "4. **Python 3.8+** with pip installed\n",
        "\n",
        "Ready? Let's dive in! 👇\n"
      ]
    },
    {
      "cell_type": "markdown",
      "metadata": {
        "id": "zCXBqLUtJfWd"
      },
      "source": [
        "---\n",
        "\n",
        "## 📦 Section 1: Installation\n",
        "\n",
        "Install the required Python packages for Label Studio and HuggingFace integration.\n"
      ]
    },
    {
      "cell_type": "code",
      "execution_count": null,
      "metadata": {
        "id": "Hlr6QxZNJfWe"
      },
      "outputs": [],
      "source": [
        "# Install required packages\n",
        "%pip install -q label-studio-sdk datasets transformers torch huggingface_hub accelerate\n",
        "\n",
        "print(\"✅ All packages installed successfully!\")\n"
      ]
    },
    {
      "cell_type": "markdown",
      "metadata": {
        "id": "tga1XQ6UJfWe"
      },
      "source": [
        "**What was installed:**\n",
        "- `label-studio-sdk`: Python SDK for Label Studio API\n",
        "- `datasets`: HuggingFace datasets library\n",
        "- `transformers`: HuggingFace transformers for models\n",
        "- `torch`: PyTorch (required for transformers)\n",
        "- `huggingface_hub`: Authentication and model hub access\n",
        "- `accelerate`: Distributed training utilities\n"
      ]
    },
    {
      "cell_type": "markdown",
      "source": [
        "### 1.2: Configure Credentials\n",
        "To support loading credentials from Google Colab Secrets with fallback to .env and environment sourced variables the following cell can be used."
      ],
      "metadata": {
        "id": "i8MCqFtz3oIa"
      }
    },
    {
      "cell_type": "code",
      "source": [
        "%pip install python-dotenv\n",
        "\n",
        "# Load configuration with Google Colab Secrets support + fallback\n",
        "IS_GOOGLE_COLAB = False\n",
        "\n",
        "# Load from .env file if available (for local development)\n",
        "try:\n",
        "    from dotenv import load_dotenv\n",
        "    load_dotenv()\n",
        "except:\n",
        "    pass  # will use system env vars\n",
        "\n",
        "def get_credential(key, default=None):\n",
        "    global IS_GOOGLE_COLAB\n",
        "    \"\"\"Get credential from Colab Secrets first, then environment variables\"\"\"\n",
        "    try:\n",
        "        # Try Google Colab Secrets first (most secure)\n",
        "        from google.colab import userdata\n",
        "        IS_GOOGLE_COLAB = True\n",
        "        return userdata.get(key)\n",
        "    except:\n",
        "        from os import environ\n",
        "        IS_GOOGLE_COLAB = False\n",
        "        # Fallback to environment variables (for local Jupyter)\n",
        "        return environ.get(key, default)"
      ],
      "metadata": {
        "id": "RVHm37Wj3R6c"
      },
      "execution_count": null,
      "outputs": []
    },
    {
      "cell_type": "markdown",
      "metadata": {
        "id": "7hdEmiw7JfWe"
      },
      "source": [
        "---\n",
        "\n",
        "## 🔐 Section 2: Authentication\n",
        "\n",
        "### 2.1: Connect to Label Studio\n",
        "\n",
        "Set your environment variables before running:\n",
        "\n",
        "```bash\n",
        "export LABEL_STUDIO_URL=\"http://localhost:8080\"  # or your Label Studio URL\n",
        "export LABEL_STUDIO_API_KEY=\"your-api-key-here\"\n",
        "```\n",
        "\n",
        "**How to get your API key:**\n",
        "1. Open Label Studio in your browser\n",
        "2. Click on your profile (top-right)\n",
        "3. Go to \"Account & Settings\"\n",
        "4. Click \"Personal Access Token\"\n",
        "5. Click \"Create new Token\"\n",
        "6. Copy the token\n"
      ]
    },
    {
      "cell_type": "code",
      "execution_count": null,
      "metadata": {
        "id": "kHzDnyJeJfWe"
      },
      "outputs": [],
      "source": [
        "import os\n",
        "from label_studio_sdk import Client\n",
        "\n",
        "# Get credentials from environment variables\n",
        "ls_api_key = os.environ.get('LABEL_STUDIO_API_KEY')\n",
        "ls_url = os.environ.get('LABEL_STUDIO_URL', 'http://localhost:8080')\n",
        "\n",
        "if not ls_api_key:\n",
        "    raise ValueError('❌ Please set LABEL_STUDIO_API_KEY environment variable.')\n",
        "\n",
        "# Connect to Label Studio\n",
        "try:\n",
        "    ls = Client(url=ls_url, api_key=ls_api_key)\n",
        "    connection_status = ls.check_connection()\n",
        "    print(f'✅ Connected to Label Studio at {ls_url}')\n",
        "    print(f'   Connection status: {connection_status}')\n",
        "except Exception as e:\n",
        "    raise ConnectionError(f'❌ Failed to connect to Label Studio: {str(e)}')\n"
      ]
    },
    {
      "cell_type": "markdown",
      "metadata": {
        "id": "5hOvirleJfWe"
      },
      "source": [
        "### 2.2: Authenticate with HuggingFace\n",
        "\n",
        "Set your HuggingFace token (recommended):\n",
        "\n",
        "```bash\n",
        "export HF_TOKEN=\"your-hf-token-here\"\n",
        "```\n",
        "\n",
        "**How to get your HuggingFace token:**\n",
        "1. Go to [huggingface.co/settings/tokens](https://huggingface.co/settings/tokens)\n",
        "2. Click \"New token\"\n",
        "3. Choose \"Read\" access (or \"Write\" if you plan to upload models)\n",
        "4. Copy the token\n",
        "\n",
        "**Note:** Authentication is optional for public models and datasets. You only need it for:\n",
        "- Private models or datasets\n",
        "- Uploading models to the Hub\n",
        "- Higher API rate limits\n"
      ]
    },
    {
      "cell_type": "code",
      "execution_count": null,
      "metadata": {
        "id": "WFCZbRpPJfWf"
      },
      "outputs": [],
      "source": [
        "from huggingface_hub import login\n",
        "\n",
        "# Get HuggingFace token (optional but recommended)\n",
        "hf_token = os.environ.get('HF_TOKEN')\n",
        "\n",
        "if hf_token:\n",
        "    try:\n",
        "        login(token=hf_token)\n",
        "        print('✅ Logged into Hugging Face Hub')\n",
        "    except Exception as e:\n",
        "        print(f'⚠️  Warning: HF login failed: {str(e)}')\n",
        "        print('   Continuing with public models only...')\n",
        "else:\n",
        "    print('ℹ️  No HF_TOKEN provided. Using public models only.')\n"
      ]
    },
    {
      "cell_type": "markdown",
      "metadata": {
        "id": "iipRmc25JfWf"
      },
      "source": [
        "---\n",
        "\n",
        "## 📥 Section 3: Import Data from HuggingFace to Label Studio\n",
        "\n",
        "### 3.1: Create a Label Studio Project\n",
        "\n",
        "This example creates a simple text classification project. You can customize the `label_config` for your specific use case.\n",
        "\n",
        "**Common label configs:**\n",
        "- Named Entity Recognition (NER)\n",
        "- Text Classification\n",
        "- Question Answering\n",
        "- Sentiment Analysis\n"
      ]
    },
    {
      "cell_type": "code",
      "execution_count": null,
      "metadata": {
        "id": "u5YXzciWJfWf"
      },
      "outputs": [],
      "source": [
        "# Example: Create a text classification project\n",
        "# Customize this label_config for your use case\n",
        "\n",
        "label_config = '''\n",
        "<View>\n",
        "  <Text name=\"text\" value=\"$text\"/>\n",
        "  <Choices name=\"label\" toName=\"text\" choice=\"single\">\n",
        "    <Choice value=\"Positive\"/>\n",
        "    <Choice value=\"Negative\"/>\n",
        "    <Choice value=\"Neutral\"/>\n",
        "  </Choices>\n",
        "</View>\n",
        "'''\n",
        "\n",
        "# Create or retrieve project\n",
        "project_title = 'HuggingFace Integration Example'\n",
        "\n",
        "try:\n",
        "    project = ls.start_project(\n",
        "        title=project_title,\n",
        "        label_config=label_config,\n",
        "        description='Example project for HuggingFace integration'\n",
        "    )\n",
        "    print(f'✅ Project created successfully!')\n",
        "except Exception as e:\n",
        "    # Project might already exist, try to get it\n",
        "    projects = ls.list_projects()\n",
        "    project = next((p for p in projects if p.get_params()['title'] == project_title), None)\n",
        "    if project:\n",
        "        print(f'ℹ️  Using existing project: {project_title}')\n",
        "    else:\n",
        "        raise e\n",
        "\n",
        "print(f'   Project ID: {project.id}')\n",
        "print(f'   Project URL: {ls_url}/projects/{project.id}')\n"
      ]
    },
    {
      "cell_type": "markdown",
      "metadata": {
        "id": "cwS9-CLfJfWf"
      },
      "source": [
        "### 3.2: Load Dataset from HuggingFace\n",
        "\n",
        "Load a dataset from the HuggingFace Hub. You can:\n",
        "- Choose any dataset from [huggingface.co/datasets](https://huggingface.co/datasets)\n",
        "- Select specific splits (train, test, validation)\n",
        "- Limit the number of examples with slice notation\n"
      ]
    },
    {
      "cell_type": "code",
      "execution_count": null,
      "metadata": {
        "id": "dlYGeO4YJfWf"
      },
      "outputs": [],
      "source": [
        "from datasets import load_dataset\n",
        "\n",
        "# Example: Load IMDb sentiment dataset\n",
        "# Replace with your dataset of choice\n",
        "print('📦 Loading dataset from HuggingFace...')\n",
        "\n",
        "# Load dataset (adjust parameters for your use case)\n",
        "dataset = load_dataset(\n",
        "    'imdb',           # Dataset name\n",
        "    split='test[:50]' # Take first 50 examples from test split\n",
        ")\n",
        "\n",
        "print(f'   Loaded {len(dataset)} examples')\n",
        "print(f'\\n📝 Sample data:')\n",
        "print(f'   Text preview: {dataset[0][\"text\"][:200]}...')\n",
        "print(f'   Label: {dataset[0].get(\"label\", \"N/A\")}')\n"
      ]
    },
    {
      "cell_type": "markdown",
      "metadata": {
        "id": "VEX-tdPmJfWf"
      },
      "source": [
        "### 3.3: Convert to Label Studio Format\n",
        "\n",
        "Convert HuggingFace dataset format to Label Studio task format.\n",
        "\n",
        "**Label Studio task format:**\n",
        "```python\n",
        "{\n",
        "    \"data\": {\"text\": \"Your text here\"},  # Must match label config\n",
        "    \"meta\": {\"source\": \"huggingface\"}   # Optional metadata\n",
        "}\n",
        "```\n"
      ]
    },
    {
      "cell_type": "code",
      "execution_count": null,
      "metadata": {
        "id": "X8eWNdpyJfWf"
      },
      "outputs": [],
      "source": [
        "# Convert HuggingFace format to Label Studio format\n",
        "tasks = []\n",
        "\n",
        "for idx, row in enumerate(dataset):\n",
        "    # Customize based on your dataset structure\n",
        "    # This example assumes the dataset has a 'text' field\n",
        "    task = {\n",
        "        \"data\": {\n",
        "            \"text\": row['text']  # Adjust field name to match your dataset\n",
        "        },\n",
        "        \"meta\": {\n",
        "            \"source\": \"huggingface\",\n",
        "            \"dataset_index\": idx\n",
        "        }\n",
        "    }\n",
        "    tasks.append(task)\n",
        "\n",
        "print(f'✅ Converted {len(tasks)} examples to Label Studio format')\n",
        "print(f'\\n📝 Sample task (truncated for display):')\n",
        "sample_task = tasks[0].copy()\n",
        "sample_task['data']['text'] = sample_task['data']['text'][:200] + '...'\n",
        "print(f'   {sample_task}')\n"
      ]
    },
    {
      "cell_type": "markdown",
      "metadata": {
        "id": "9oIg1OucJfWf"
      },
      "source": [
        "### 3.4: Import Tasks into Label Studio\n",
        "\n",
        "Upload the converted tasks to your Label Studio project.\n"
      ]
    },
    {
      "cell_type": "code",
      "execution_count": null,
      "metadata": {
        "id": "ybZdG8owJfWg"
      },
      "outputs": [],
      "source": [
        "# Import tasks into Label Studio\n",
        "print(f'📤 Importing {len(tasks)} tasks into Label Studio...')\n",
        "\n",
        "project.import_tasks(tasks)\n",
        "\n",
        "# Verify import\n",
        "imported_tasks = project.get_tasks()\n",
        "print(f'✅ Successfully imported {len(imported_tasks)} tasks!')\n",
        "print(f'\\n💡 Next step: Go to Label Studio and start annotating!')\n",
        "print(f'   {ls_url}/projects/{project.id}')\n"
      ]
    },
    {
      "cell_type": "markdown",
      "metadata": {
        "id": "eZt4L0LcJfWg"
      },
      "source": [
        "---\n",
        "\n",
        "## 📤 Section 4: Export Annotations from Label Studio\n",
        "\n",
        "### 4.1: Export Labeled Data\n",
        "\n",
        "Export annotations from Label Studio in JSON format.\n"
      ]
    },
    {
      "cell_type": "code",
      "execution_count": null,
      "metadata": {
        "id": "1UuP2UimJfWg"
      },
      "outputs": [],
      "source": [
        "# Export annotations from Label Studio\n",
        "print('📥 Exporting annotations from Label Studio...')\n",
        "\n",
        "# Export in JSON format\n",
        "annotations = project.export_tasks(export_type='JSON')\n",
        "\n",
        "# Filter for labeled tasks only\n",
        "labeled_tasks = [task for task in annotations if task.get('annotations')]\n",
        "\n",
        "print(f'   Total tasks: {len(annotations)}')\n",
        "print(f'   Labeled tasks: {len(labeled_tasks)}')\n",
        "\n",
        "if len(labeled_tasks) == 0:\n",
        "    print('\\n⚠️  No labeled data found. Please annotate some tasks in Label Studio first.')\n",
        "else:\n",
        "    print(f'\\n📝 Sample annotation:')\n",
        "    print(f'   Text: {labeled_tasks[0][\"data\"][\"text\"][:100]}...')\n"
      ]
    },
    {
      "cell_type": "markdown",
      "metadata": {
        "id": "dmR4rsl1JfWg"
      },
      "source": [
        "### 4.2: Convert to HuggingFace Dataset Format\n",
        "\n",
        "Convert Label Studio annotations to HuggingFace Dataset format for training.\n",
        "\n",
        "**Note:** This is a simple example for classification. You'll need to customize this for:\n",
        "- Token classification (NER)\n",
        "- Question answering\n",
        "- Other complex tasks\n"
      ]
    },
    {
      "cell_type": "code",
      "execution_count": null,
      "metadata": {
        "id": "rp4l9qAsJfWg"
      },
      "outputs": [],
      "source": [
        "from datasets import Dataset\n",
        "\n",
        "# Example: Extract text classification labels\n",
        "# Customize based on your labeling config\n",
        "\n",
        "texts = []\n",
        "labels = []\n",
        "\n",
        "for task in labeled_tasks:\n",
        "    # Get the text\n",
        "    text = task['data']['text']\n",
        "\n",
        "    # Get the label from first annotation\n",
        "    annotation = task['annotations'][0]\n",
        "    results = annotation.get('result', [])\n",
        "\n",
        "    if results:\n",
        "        # Extract label (adjust based on your label config)\n",
        "        # For Choices type, the label is in value['choices'][0]\n",
        "        label = results[0]['value']['choices'][0]\n",
        "\n",
        "        texts.append(text)\n",
        "        labels.append(label)\n",
        "\n",
        "# Create HuggingFace Dataset\n",
        "if len(texts) > 0:\n",
        "    hf_dataset = Dataset.from_dict({\n",
        "        \"text\": texts,\n",
        "        \"label\": labels\n",
        "    })\n",
        "\n",
        "    print(f'✅ Created HuggingFace dataset with {len(hf_dataset)} examples')\n",
        "    print(f'\\n📝 Sample:')\n",
        "    sample = hf_dataset[0].copy()\n",
        "    # Truncate long text for display\n",
        "    if len(sample['text']) > 200:\n",
        "        sample['text'] = sample['text'][:200] + '...'\n",
        "    print(f'   Text: {sample[\"text\"]}')\n",
        "    print(f'   Label: {sample[\"label\"]}')\n",
        "else:\n",
        "    print('⚠️  No labeled data to convert. Please annotate some tasks first.')\n"
      ]
    },
    {
      "cell_type": "markdown",
      "metadata": {
        "id": "mRLbEWE7JfWg"
      },
      "source": [
        "---\n",
        "\n",
        "## 🤖 Section 5: Connect HuggingFace Models for Predictions\n",
        "\n",
        "### 5.1: Load a HuggingFace Model\n",
        "\n",
        "Load a pre-trained model from HuggingFace for generating predictions.\n"
      ]
    },
    {
      "cell_type": "code",
      "execution_count": null,
      "metadata": {
        "id": "rDANx3djJfWg"
      },
      "outputs": [],
      "source": [
        "from transformers import pipeline\n",
        "\n",
        "# Example: Load sentiment analysis pipeline\n",
        "# Replace with your model/task of choice\n",
        "print('🤗 Loading HuggingFace model...')\n",
        "\n",
        "# Load a pipeline (easiest way)\n",
        "model = pipeline(\n",
        "    \"sentiment-analysis\",  # Task type\n",
        "    model=\"distilbert-base-uncased-finetuned-sst-2-english\"  # Model name\n",
        ")\n",
        "\n",
        "print('✅ Model loaded successfully!')\n",
        "\n",
        "# Test the model\n",
        "sample_text = \"This is a great tutorial!\"\n",
        "prediction = model(sample_text)\n",
        "print(f'\\n🧪 Test prediction:')\n",
        "print(f'   Input: \"{sample_text}\"')\n",
        "print(f'   Output: {prediction}')\n"
      ]
    },
    {
      "cell_type": "markdown",
      "metadata": {
        "id": "vi4VrRSNJfWg"
      },
      "source": [
        "### 5.2: Generate Predictions for Label Studio\n",
        "\n",
        "Create predictions in Label Studio format and upload them to your project.\n"
      ]
    },
    {
      "cell_type": "code",
      "execution_count": null,
      "metadata": {
        "id": "gpHOqfbXJfWg"
      },
      "outputs": [],
      "source": [
        "# Get unlabeled tasks\n",
        "print('📋 Fetching unlabeled tasks...')\n",
        "all_tasks = project.get_tasks()\n",
        "unlabeled_tasks = [task for task in all_tasks if not task.get('annotations')]\n",
        "\n",
        "print(f'   Total tasks: {len(all_tasks)}')\n",
        "print(f'   Unlabeled tasks: {len(unlabeled_tasks)}')\n",
        "\n",
        "if len(unlabeled_tasks) == 0:\n",
        "    print('\\n✅ All tasks are already labeled!')\n",
        "else:\n",
        "    # Generate predictions\n",
        "    print(f'\\n🔮 Generating predictions for {min(10, len(unlabeled_tasks))} tasks...')\n",
        "\n",
        "    # Label mapping: Convert model output to Label Studio labels\n",
        "    # HuggingFace sentiment model outputs \"POSITIVE\"/\"NEGATIVE\"\n",
        "    # but our label config expects \"Positive\"/\"Negative\"/\"Neutral\"\n",
        "    label_mapping = {\n",
        "        \"POSITIVE\": \"Positive\",\n",
        "        \"NEGATIVE\": \"Negative\",\n",
        "        \"NEUTRAL\": \"Neutral\"\n",
        "    }\n",
        "\n",
        "    prediction_count = 0\n",
        "    for task in unlabeled_tasks[:10]:  # Demo: first 10 tasks\n",
        "        try:\n",
        "            text = task['data']['text']\n",
        "\n",
        "            # Get model prediction\n",
        "            pred = model(text)[0]\n",
        "\n",
        "            # Map the label (use original if not in mapping)\n",
        "            mapped_label = label_mapping.get(pred['label'], pred['label'])\n",
        "\n",
        "            # Convert to Label Studio format\n",
        "            # Customize based on your label config\n",
        "            result = [{\n",
        "                \"from_name\": \"label\",\n",
        "                \"to_name\": \"text\",\n",
        "                \"type\": \"choices\",\n",
        "                \"value\": {\n",
        "                    \"choices\": [mapped_label]\n",
        "                },\n",
        "                \"score\": pred['score']\n",
        "            }]\n",
        "\n",
        "            # Create prediction in Label Studio\n",
        "            project.create_prediction(\n",
        "                task_id=task['id'],\n",
        "                result=result,\n",
        "                model_version='huggingface-sentiment-model'\n",
        "            )\n",
        "\n",
        "            prediction_count += 1\n",
        "\n",
        "        except Exception as e:\n",
        "            print(f'   ⚠️  Error on task {task[\"id\"]}: {str(e)}')\n",
        "            continue\n",
        "\n",
        "    print(f'\\n✅ Successfully created {prediction_count} pre-annotations!')\n",
        "    print(f'\\n💡 Next steps:')\n",
        "    print(f'   1. Go to Label Studio: {ls_url}/projects/{project.id}')\n",
        "    print(f'   2. Review and correct the predictions')\n",
        "    print(f'   3. Submit your annotations')\n"
      ]
    },
    {
      "cell_type": "markdown",
      "metadata": {
        "id": "Q5FjOrFOJfWg"
      },
      "source": [
        "---\n",
        "\n",
        "## 🎉 That's It!\n",
        "\n",
        "You now have all the essential building blocks for integrating Label Studio with HuggingFace.\n",
        "\n",
        "### What You Can Do Next:\n",
        "\n",
        "1. **Customize for Your Use Case**: Adapt these snippets for NER, QA, or other tasks\n",
        "2. **Build Complete Pipelines**: Combine these snippets into end-to-end workflows\n",
        "3. **Add Active Learning**: Use confidence scores to prioritize uncertain examples\n",
        "4. **Deploy ML Backends**: Create persistent prediction servers for production\n",
        "\n",
        "### More Resources:\n",
        "\n",
        "- 📖 [Label Studio Documentation](https://labelstud.io/guide/)\n",
        "- 🤗 [HuggingFace Tutorials](https://huggingface.co/docs)\n",
        "- 🎯 [Label Studio SDK Reference](https://labelstud.io/sdk/)\n",
        "- 💬 [Join Label Studio Slack](https://slack.labelstudio.heartex.com/)\n",
        "\n",
        "---\n",
        "\n",
        "Happy labeling! 🏷️✨\n"
      ]
    }
  ],
  "metadata": {
    "language_info": {
      "name": "python"
    },
    "colab": {
      "provenance": []
    }
  },
  "nbformat": 4,
  "nbformat_minor": 0
}